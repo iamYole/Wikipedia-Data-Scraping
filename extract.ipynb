{
 "cells": [
  {
   "cell_type": "code",
   "execution_count": 105,
   "id": "54218915",
   "metadata": {},
   "outputs": [],
   "source": [
    "import requests\n",
    "import csv\n",
    "import json\n",
    "import pandas as pd\n",
    "from bs4 import BeautifulSoup"
   ]
  },
  {
   "cell_type": "code",
   "execution_count": null,
   "id": "d9bfa7b0",
   "metadata": {},
   "outputs": [],
   "source": [
    "# getting the request URL\n",
    "response = requests.get('https://en.wikipedia.org/wiki/List_of_largest_universities_and_university_networks_by_enrollment')\n",
    "\n",
    "soup = BeautifulSoup(response.content)"
   ]
  },
  {
   "cell_type": "code",
   "execution_count": 11,
   "id": "e4245b3c",
   "metadata": {},
   "outputs": [],
   "source": [
    "table = soup.find('table', attrs={'class':'wikitable'})"
   ]
  },
  {
   "cell_type": "code",
   "execution_count": 38,
   "id": "c2a0db87",
   "metadata": {},
   "outputs": [],
   "source": [
    "trs = table.find_all('tr')"
   ]
  },
  {
   "cell_type": "code",
   "execution_count": 35,
   "id": "a60aec09",
   "metadata": {},
   "outputs": [
    {
     "name": "stdout",
     "output_type": "stream",
     "text": [
      "Rank\n",
      "Institution\n",
      "Location\n",
      "Continent\n",
      "Founded\n",
      "Affiliation\n",
      "Distance/In-Person[a]\n",
      "Enrollment\n",
      "Ref\n"
     ]
    }
   ],
   "source": [
    "columns = []\n",
    "for item in trs[0].find_all('th'):\n",
    "    print(item.text.strip())\n",
    "    columns.append(item.text.strip())\n"
   ]
  },
  {
   "cell_type": "code",
   "execution_count": 26,
   "id": "d3f7cb3f",
   "metadata": {},
   "outputs": [
    {
     "data": {
      "text/plain": [
       "['Rank', 'Institution', 'Location', 'Continent']"
      ]
     },
     "execution_count": 26,
     "metadata": {},
     "output_type": "execute_result"
    }
   ],
   "source": [
    "columns[0:4]"
   ]
  },
  {
   "cell_type": "code",
   "execution_count": 63,
   "id": "d4cf343f",
   "metadata": {},
   "outputs": [],
   "source": [
    "headers = list(map(lambda x: x.text.strip(), trs[0].find_all('th')))\n",
    "headers[-1] = \"Link\""
   ]
  },
  {
   "cell_type": "code",
   "execution_count": 64,
   "id": "59d363bc",
   "metadata": {},
   "outputs": [
    {
     "data": {
      "text/plain": [
       "['Rank',\n",
       " 'Institution',\n",
       " 'Location',\n",
       " 'Continent',\n",
       " 'Founded',\n",
       " 'Affiliation',\n",
       " 'Distance/In-Person[a]',\n",
       " 'Enrollment',\n",
       " 'Link']"
      ]
     },
     "execution_count": 64,
     "metadata": {},
     "output_type": "execute_result"
    }
   ],
   "source": [
    "headers"
   ]
  },
  {
   "cell_type": "code",
   "execution_count": 55,
   "id": "d0aee581",
   "metadata": {},
   "outputs": [
    {
     "data": {
      "text/plain": [
       "['1',\n",
       " 'Indira Gandhi National Open University',\n",
       " 'New Delhi, India',\n",
       " 'Asia',\n",
       " '1985',\n",
       " 'Public',\n",
       " 'Distance/In-Person',\n",
       " '7,140,000+',\n",
       " '[1][2][3]']"
      ]
     },
     "execution_count": 55,
     "metadata": {},
     "output_type": "execute_result"
    }
   ],
   "source": [
    "rows = trs[1:]\n",
    "rows[0].find_all('td')\n",
    "x = list(map(lambda x: x.text.strip(), rows[0].find_all('td')))\n",
    "x"
   ]
  },
  {
   "cell_type": "code",
   "execution_count": 82,
   "id": "6478e17a",
   "metadata": {},
   "outputs": [
    {
     "data": {
      "text/plain": [
       "'/wiki/Indira_Gandhi_National_Open_University'"
      ]
     },
     "execution_count": 82,
     "metadata": {},
     "output_type": "execute_result"
    }
   ],
   "source": [
    "rows[0].find_all('td')[1].find_all('a')[1]['href']"
   ]
  },
  {
   "cell_type": "code",
   "execution_count": 89,
   "id": "769e04fd",
   "metadata": {},
   "outputs": [],
   "source": [
    "def extract_data(row):\n",
    "    row_list = row.find_all('td')\n",
    "    row_item = list(map(lambda x: x.text.strip(), row_list))\n",
    "    link = row_list[1].find_all('a')[1]['href'].lstrip('/')\n",
    "    row_item[-1] = f\"https://en.wikipedia.org/\"+ link if link else ''\n",
    "    return row_item"
   ]
  },
  {
   "cell_type": "code",
   "execution_count": 92,
   "id": "78722eb5",
   "metadata": {},
   "outputs": [],
   "source": [
    "data = list(map(extract_data, rows))"
   ]
  },
  {
   "cell_type": "code",
   "execution_count": 99,
   "id": "0d587ffd",
   "metadata": {},
   "outputs": [
    {
     "data": {
      "text/plain": [
       "90"
      ]
     },
     "execution_count": 99,
     "metadata": {},
     "output_type": "execute_result"
    }
   ],
   "source": [
    "len(data)"
   ]
  },
  {
   "cell_type": "code",
   "execution_count": 103,
   "id": "c347cf67",
   "metadata": {},
   "outputs": [],
   "source": [
    "with open('universities.csv', 'w') as f:\n",
    "    csvwriter = csv.writer(f)\n",
    "    csvwriter.writerow(headers)\n",
    "    csvwriter.writerows(data)"
   ]
  },
  {
   "cell_type": "code",
   "execution_count": 111,
   "id": "b1ae1ae8",
   "metadata": {},
   "outputs": [],
   "source": [
    "df =pd.DataFrame(data=data, columns=headers)\n",
    "df.to_json('universities.json', orient='records',lines=True)"
   ]
  },
  {
   "cell_type": "code",
   "execution_count": null,
   "id": "49f189b9",
   "metadata": {},
   "outputs": [],
   "source": []
  }
 ],
 "metadata": {
  "kernelspec": {
   "display_name": "venv",
   "language": "python",
   "name": "python3"
  },
  "language_info": {
   "codemirror_mode": {
    "name": "ipython",
    "version": 3
   },
   "file_extension": ".py",
   "mimetype": "text/x-python",
   "name": "python",
   "nbconvert_exporter": "python",
   "pygments_lexer": "ipython3",
   "version": "3.12.7"
  }
 },
 "nbformat": 4,
 "nbformat_minor": 5
}
