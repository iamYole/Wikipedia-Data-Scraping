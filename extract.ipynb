{
 "cells": [
  {
   "cell_type": "markdown",
   "id": "3d49c3c5",
   "metadata": {},
   "source": [
    "### Import the required libraries"
   ]
  },
  {
   "cell_type": "code",
   "execution_count": 26,
   "id": "54218915",
   "metadata": {},
   "outputs": [],
   "source": [
    "import requests\n",
    "import csv\n",
    "import json\n",
    "import pandas as pd\n",
    "from bs4 import BeautifulSoup"
   ]
  },
  {
   "cell_type": "markdown",
   "id": "56694b6e",
   "metadata": {},
   "source": [
    "### Getting the request URL and extract the information"
   ]
  },
  {
   "cell_type": "code",
   "execution_count": 27,
   "id": "d9bfa7b0",
   "metadata": {},
   "outputs": [],
   "source": [
    "\n",
    "response = requests.get('https://en.wikipedia.org/wiki/List_of_largest_universities_and_university_networks_by_enrollment')\n",
    "\n",
    "soup = BeautifulSoup(response.content)"
   ]
  },
  {
   "cell_type": "code",
   "execution_count": 28,
   "id": "e4245b3c",
   "metadata": {},
   "outputs": [],
   "source": [
    "table = soup.find('table', attrs={'class':'wikitable'})"
   ]
  },
  {
   "cell_type": "code",
   "execution_count": 29,
   "id": "c2a0db87",
   "metadata": {},
   "outputs": [],
   "source": [
    "trs = table.find_all('tr')"
   ]
  },
  {
   "cell_type": "code",
   "execution_count": 30,
   "id": "a60aec09",
   "metadata": {},
   "outputs": [
    {
     "name": "stdout",
     "output_type": "stream",
     "text": [
      "Rank\n",
      "Institution\n",
      "Location\n",
      "Continent\n",
      "Founded\n",
      "Affiliation\n",
      "Distance/In-Person[a]\n",
      "Enrollment\n",
      "Ref\n"
     ]
    }
   ],
   "source": [
    "columns = []\n",
    "for item in trs[0].find_all('th'):\n",
    "    print(item.text.strip())\n",
    "    columns.append(item.text.strip())\n"
   ]
  },
  {
   "cell_type": "code",
   "execution_count": 31,
   "id": "d4cf343f",
   "metadata": {},
   "outputs": [],
   "source": [
    "headers = list(map(lambda x: x.text.strip(), trs[0].find_all('th')))\n",
    "headers[6] = \"Delivery_Method\"\n",
    "headers[-1] = \"Link\""
   ]
  },
  {
   "cell_type": "code",
   "execution_count": 32,
   "id": "59d363bc",
   "metadata": {},
   "outputs": [
    {
     "data": {
      "text/plain": [
       "['Rank',\n",
       " 'Institution',\n",
       " 'Location',\n",
       " 'Continent',\n",
       " 'Founded',\n",
       " 'Affiliation',\n",
       " 'Delivery_Method',\n",
       " 'Enrollment',\n",
       " 'Link']"
      ]
     },
     "execution_count": 32,
     "metadata": {},
     "output_type": "execute_result"
    }
   ],
   "source": [
    "headers"
   ]
  },
  {
   "cell_type": "code",
   "execution_count": 33,
   "id": "d0aee581",
   "metadata": {},
   "outputs": [
    {
     "data": {
      "text/plain": [
       "['1',\n",
       " 'Indira Gandhi National Open University',\n",
       " 'New Delhi, India',\n",
       " 'Asia',\n",
       " '1985',\n",
       " 'Public',\n",
       " 'Distance/In-Person',\n",
       " '7,140,000+',\n",
       " '[1][2][3]']"
      ]
     },
     "execution_count": 33,
     "metadata": {},
     "output_type": "execute_result"
    }
   ],
   "source": [
    "rows = trs[1:]\n",
    "rows[0].find_all('td')\n",
    "x = list(map(lambda x: x.text.strip(), rows[0].find_all('td')))\n",
    "x"
   ]
  },
  {
   "cell_type": "code",
   "execution_count": 34,
   "id": "6478e17a",
   "metadata": {},
   "outputs": [
    {
     "data": {
      "text/plain": [
       "'/wiki/Indira_Gandhi_National_Open_University'"
      ]
     },
     "execution_count": 34,
     "metadata": {},
     "output_type": "execute_result"
    }
   ],
   "source": [
    "rows[0].find_all('td')[1].find_all('a')[1]['href']"
   ]
  },
  {
   "cell_type": "code",
   "execution_count": 35,
   "id": "769e04fd",
   "metadata": {},
   "outputs": [],
   "source": [
    "def extract_data(row):\n",
    "    row_list = row.find_all('td')\n",
    "    row_item = list(map(lambda x: x.text.strip(), row_list))\n",
    "    if len(row) < 6:\n",
    "        print(\"#############################################\")\n",
    "        print(row)\n",
    "    link = row_list[1].find_all('a')[1]['href'].lstrip('/')\n",
    "    row_item[-1] = f\"https://en.wikipedia.org/\"+ link if link else ''\n",
    "    return row_item"
   ]
  },
  {
   "cell_type": "code",
   "execution_count": 36,
   "id": "103b384f",
   "metadata": {},
   "outputs": [
    {
     "data": {
      "text/plain": [
       "['8',\n",
       " 'Bangladesh Open University',\n",
       " 'Gazipur, Bangladesh',\n",
       " 'Asia',\n",
       " '1992',\n",
       " 'Public',\n",
       " 'Distance',\n",
       " '650,000',\n",
       " 'https://en.wikipedia.org/wiki/Bangladesh_Open_University']"
      ]
     },
     "execution_count": 36,
     "metadata": {},
     "output_type": "execute_result"
    }
   ],
   "source": [
    "extract_data(rows[7])"
   ]
  },
  {
   "cell_type": "code",
   "execution_count": 37,
   "id": "78722eb5",
   "metadata": {},
   "outputs": [],
   "source": [
    "data = list(map(extract_data, rows))\n",
    "# data"
   ]
  },
  {
   "cell_type": "code",
   "execution_count": 38,
   "id": "0d587ffd",
   "metadata": {},
   "outputs": [
    {
     "data": {
      "text/plain": [
       "90"
      ]
     },
     "execution_count": 38,
     "metadata": {},
     "output_type": "execute_result"
    }
   ],
   "source": [
    "len(data)"
   ]
  },
  {
   "cell_type": "markdown",
   "id": "d83daa95",
   "metadata": {},
   "source": [
    "### Saving the data to CSV"
   ]
  },
  {
   "cell_type": "code",
   "execution_count": 39,
   "id": "c347cf67",
   "metadata": {},
   "outputs": [],
   "source": [
    "with open('universities.csv', 'w') as f:\n",
    "    csvwriter = csv.writer(f)\n",
    "    csvwriter.writerow(headers)\n",
    "    csvwriter.writerows(data)"
   ]
  },
  {
   "cell_type": "code",
   "execution_count": 40,
   "id": "b1ae1ae8",
   "metadata": {},
   "outputs": [],
   "source": [
    "df =pd.DataFrame(data=data, columns=headers)\n",
    "df.to_json('universities.json', orient='records',lines=True)"
   ]
  },
  {
   "cell_type": "code",
   "execution_count": 41,
   "id": "49f189b9",
   "metadata": {},
   "outputs": [
    {
     "data": {
      "text/html": [
       "<div>\n",
       "<style scoped>\n",
       "    .dataframe tbody tr th:only-of-type {\n",
       "        vertical-align: middle;\n",
       "    }\n",
       "\n",
       "    .dataframe tbody tr th {\n",
       "        vertical-align: top;\n",
       "    }\n",
       "\n",
       "    .dataframe thead th {\n",
       "        text-align: right;\n",
       "    }\n",
       "</style>\n",
       "<table border=\"1\" class=\"dataframe\">\n",
       "  <thead>\n",
       "    <tr style=\"text-align: right;\">\n",
       "      <th></th>\n",
       "      <th>Rank</th>\n",
       "      <th>Institution</th>\n",
       "      <th>Location</th>\n",
       "      <th>Continent</th>\n",
       "      <th>Founded</th>\n",
       "      <th>Affiliation</th>\n",
       "      <th>Delivery_Method</th>\n",
       "      <th>Enrollment</th>\n",
       "      <th>Link</th>\n",
       "    </tr>\n",
       "  </thead>\n",
       "  <tbody>\n",
       "    <tr>\n",
       "      <th>0</th>\n",
       "      <td>1</td>\n",
       "      <td>Indira Gandhi National Open University</td>\n",
       "      <td>New Delhi, India</td>\n",
       "      <td>Asia</td>\n",
       "      <td>1985</td>\n",
       "      <td>Public</td>\n",
       "      <td>Distance/In-Person</td>\n",
       "      <td>7,140,000+</td>\n",
       "      <td>https://en.wikipedia.org/wiki/Indira_Gandhi_Na...</td>\n",
       "    </tr>\n",
       "    <tr>\n",
       "      <th>1</th>\n",
       "      <td>2</td>\n",
       "      <td>National University, Bangladesh</td>\n",
       "      <td>Gazipur, Bangladesh</td>\n",
       "      <td>Asia</td>\n",
       "      <td>1992</td>\n",
       "      <td>Public</td>\n",
       "      <td>In-Person</td>\n",
       "      <td>3,425,832</td>\n",
       "      <td>https://en.wikipedia.org/wiki/National_Univers...</td>\n",
       "    </tr>\n",
       "    <tr>\n",
       "      <th>2</th>\n",
       "      <td>3</td>\n",
       "      <td>Anadolu University</td>\n",
       "      <td>Eskişehir, Turkey</td>\n",
       "      <td>Asia</td>\n",
       "      <td>1958</td>\n",
       "      <td>Public</td>\n",
       "      <td>Distance/In-Person</td>\n",
       "      <td>1,974,343</td>\n",
       "      <td>https://en.wikipedia.org/wiki/Anadolu_University</td>\n",
       "    </tr>\n",
       "    <tr>\n",
       "      <th>3</th>\n",
       "      <td>4</td>\n",
       "      <td>California Community Colleges</td>\n",
       "      <td>California, United States</td>\n",
       "      <td>North America</td>\n",
       "      <td>1967</td>\n",
       "      <td>Public</td>\n",
       "      <td>In-Person</td>\n",
       "      <td>1,800,000</td>\n",
       "      <td>https://en.wikipedia.org/wiki/California_Commu...</td>\n",
       "    </tr>\n",
       "    <tr>\n",
       "      <th>4</th>\n",
       "      <td>5</td>\n",
       "      <td>Islamic Azad University</td>\n",
       "      <td>Iran</td>\n",
       "      <td>Asia</td>\n",
       "      <td>1982</td>\n",
       "      <td>Private</td>\n",
       "      <td>In-Person</td>\n",
       "      <td>1,778,000</td>\n",
       "      <td>https://en.wikipedia.org/wiki/Islamic_Azad_Uni...</td>\n",
       "    </tr>\n",
       "    <tr>\n",
       "      <th>5</th>\n",
       "      <td>6</td>\n",
       "      <td>Allama Iqbal Open University</td>\n",
       "      <td>Islamabad, Pakistan</td>\n",
       "      <td>Asia</td>\n",
       "      <td>1974</td>\n",
       "      <td>Public</td>\n",
       "      <td>Distance/In-Person</td>\n",
       "      <td>1,027,000</td>\n",
       "      <td>https://en.wikipedia.org/wiki/Allama_Iqbal_Ope...</td>\n",
       "    </tr>\n",
       "    <tr>\n",
       "      <th>6</th>\n",
       "      <td>7</td>\n",
       "      <td>Laureate Education, Inc.</td>\n",
       "      <td>International</td>\n",
       "      <td>Global</td>\n",
       "      <td>1999</td>\n",
       "      <td>Private</td>\n",
       "      <td>Distance/In-Person</td>\n",
       "      <td>875,000</td>\n",
       "      <td>https://en.wikipedia.org/wiki/Laureate_Educati...</td>\n",
       "    </tr>\n",
       "    <tr>\n",
       "      <th>7</th>\n",
       "      <td>8</td>\n",
       "      <td>Bangladesh Open University</td>\n",
       "      <td>Gazipur, Bangladesh</td>\n",
       "      <td>Asia</td>\n",
       "      <td>1992</td>\n",
       "      <td>Public</td>\n",
       "      <td>Distance</td>\n",
       "      <td>650,000</td>\n",
       "      <td>https://en.wikipedia.org/wiki/Bangladesh_Open_...</td>\n",
       "    </tr>\n",
       "    <tr>\n",
       "      <th>8</th>\n",
       "      <td>9</td>\n",
       "      <td>Universitas Terbuka</td>\n",
       "      <td>Jakarta, Indonesia</td>\n",
       "      <td>Asia</td>\n",
       "      <td>1984</td>\n",
       "      <td>Public</td>\n",
       "      <td>Distance</td>\n",
       "      <td>646,467</td>\n",
       "      <td>https://en.wikipedia.org/wiki/Universitas_Terbuka</td>\n",
       "    </tr>\n",
       "    <tr>\n",
       "      <th>9</th>\n",
       "      <td>10</td>\n",
       "      <td>National Technological Institute of Mexico</td>\n",
       "      <td>Mexico</td>\n",
       "      <td>North America</td>\n",
       "      <td>1948 and 2014</td>\n",
       "      <td>Public</td>\n",
       "      <td>In-Person</td>\n",
       "      <td>620,000 (2019)</td>\n",
       "      <td>https://en.wikipedia.org/wiki/National_Technol...</td>\n",
       "    </tr>\n",
       "  </tbody>\n",
       "</table>\n",
       "</div>"
      ],
      "text/plain": [
       "  Rank                                 Institution                   Location  \\\n",
       "0    1      Indira Gandhi National Open University           New Delhi, India   \n",
       "1    2             National University, Bangladesh        Gazipur, Bangladesh   \n",
       "2    3                          Anadolu University          Eskişehir, Turkey   \n",
       "3    4               California Community Colleges  California, United States   \n",
       "4    5                     Islamic Azad University                       Iran   \n",
       "5    6                Allama Iqbal Open University        Islamabad, Pakistan   \n",
       "6    7                    Laureate Education, Inc.              International   \n",
       "7    8                  Bangladesh Open University        Gazipur, Bangladesh   \n",
       "8    9                         Universitas Terbuka         Jakarta, Indonesia   \n",
       "9   10  National Technological Institute of Mexico                     Mexico   \n",
       "\n",
       "       Continent        Founded Affiliation     Delivery_Method  \\\n",
       "0           Asia           1985      Public  Distance/In-Person   \n",
       "1           Asia           1992      Public           In-Person   \n",
       "2           Asia           1958      Public  Distance/In-Person   \n",
       "3  North America           1967      Public           In-Person   \n",
       "4           Asia           1982     Private           In-Person   \n",
       "5           Asia           1974      Public  Distance/In-Person   \n",
       "6         Global           1999     Private  Distance/In-Person   \n",
       "7           Asia           1992      Public            Distance   \n",
       "8           Asia           1984      Public            Distance   \n",
       "9  North America  1948 and 2014      Public           In-Person   \n",
       "\n",
       "       Enrollment                                               Link  \n",
       "0      7,140,000+  https://en.wikipedia.org/wiki/Indira_Gandhi_Na...  \n",
       "1       3,425,832  https://en.wikipedia.org/wiki/National_Univers...  \n",
       "2       1,974,343   https://en.wikipedia.org/wiki/Anadolu_University  \n",
       "3       1,800,000  https://en.wikipedia.org/wiki/California_Commu...  \n",
       "4       1,778,000  https://en.wikipedia.org/wiki/Islamic_Azad_Uni...  \n",
       "5       1,027,000  https://en.wikipedia.org/wiki/Allama_Iqbal_Ope...  \n",
       "6         875,000  https://en.wikipedia.org/wiki/Laureate_Educati...  \n",
       "7         650,000  https://en.wikipedia.org/wiki/Bangladesh_Open_...  \n",
       "8         646,467  https://en.wikipedia.org/wiki/Universitas_Terbuka  \n",
       "9  620,000 (2019)  https://en.wikipedia.org/wiki/National_Technol...  "
      ]
     },
     "execution_count": 41,
     "metadata": {},
     "output_type": "execute_result"
    }
   ],
   "source": [
    "df.head(10)"
   ]
  },
  {
   "cell_type": "code",
   "execution_count": null,
   "id": "b0e037c0",
   "metadata": {},
   "outputs": [],
   "source": []
  }
 ],
 "metadata": {
  "kernelspec": {
   "display_name": "venv",
   "language": "python",
   "name": "python3"
  },
  "language_info": {
   "codemirror_mode": {
    "name": "ipython",
    "version": 3
   },
   "file_extension": ".py",
   "mimetype": "text/x-python",
   "name": "python",
   "nbconvert_exporter": "python",
   "pygments_lexer": "ipython3",
   "version": "3.12.7"
  }
 },
 "nbformat": 4,
 "nbformat_minor": 5
}
