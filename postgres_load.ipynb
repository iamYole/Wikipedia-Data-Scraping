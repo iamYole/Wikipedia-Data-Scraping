{
 "cells": [
  {
   "cell_type": "markdown",
   "id": "bd6d4feb",
   "metadata": {},
   "source": [
    "### Importing the required libaries"
   ]
  },
  {
   "cell_type": "code",
   "execution_count": 93,
   "id": "6ec6dded",
   "metadata": {},
   "outputs": [],
   "source": [
    "import pandas as pd\n",
    "import psycopg2\n",
    "from sqlalchemy import create_engine"
   ]
  },
  {
   "cell_type": "markdown",
   "id": "0291e9f2",
   "metadata": {},
   "source": [
    "### Load the cav to a pandas dataframe"
   ]
  },
  {
   "cell_type": "code",
   "execution_count": 94,
   "id": "4358dcef",
   "metadata": {},
   "outputs": [
    {
     "data": {
      "text/html": [
       "<div>\n",
       "<style scoped>\n",
       "    .dataframe tbody tr th:only-of-type {\n",
       "        vertical-align: middle;\n",
       "    }\n",
       "\n",
       "    .dataframe tbody tr th {\n",
       "        vertical-align: top;\n",
       "    }\n",
       "\n",
       "    .dataframe thead th {\n",
       "        text-align: right;\n",
       "    }\n",
       "</style>\n",
       "<table border=\"1\" class=\"dataframe\">\n",
       "  <thead>\n",
       "    <tr style=\"text-align: right;\">\n",
       "      <th></th>\n",
       "      <th>Rank</th>\n",
       "      <th>Institution</th>\n",
       "      <th>Location</th>\n",
       "      <th>Continent</th>\n",
       "      <th>Founded</th>\n",
       "      <th>Affiliation</th>\n",
       "      <th>Delivery_Method</th>\n",
       "      <th>Enrollment</th>\n",
       "      <th>Link</th>\n",
       "      <th>location_city</th>\n",
       "      <th>location_country</th>\n",
       "      <th>updated_year</th>\n",
       "    </tr>\n",
       "  </thead>\n",
       "  <tbody>\n",
       "    <tr>\n",
       "      <th>0</th>\n",
       "      <td>1</td>\n",
       "      <td>Indira Gandhi National Open University</td>\n",
       "      <td>New Delhi, India</td>\n",
       "      <td>Asia</td>\n",
       "      <td>1985</td>\n",
       "      <td>Public</td>\n",
       "      <td>Distance/In-Person</td>\n",
       "      <td>7140000</td>\n",
       "      <td>https://en.wikipedia.org/wiki/Indira_Gandhi_Na...</td>\n",
       "      <td>New Delhi</td>\n",
       "      <td>India</td>\n",
       "      <td>2025</td>\n",
       "    </tr>\n",
       "    <tr>\n",
       "      <th>1</th>\n",
       "      <td>2</td>\n",
       "      <td>National University, Bangladesh</td>\n",
       "      <td>Gazipur, Bangladesh</td>\n",
       "      <td>Asia</td>\n",
       "      <td>1992</td>\n",
       "      <td>Public</td>\n",
       "      <td>In-Person</td>\n",
       "      <td>3425832</td>\n",
       "      <td>https://en.wikipedia.org/wiki/National_Univers...</td>\n",
       "      <td>Gazipur</td>\n",
       "      <td>Bangladesh</td>\n",
       "      <td>2025</td>\n",
       "    </tr>\n",
       "    <tr>\n",
       "      <th>2</th>\n",
       "      <td>3</td>\n",
       "      <td>Anadolu University</td>\n",
       "      <td>Eskişehir, Turkey</td>\n",
       "      <td>Asia</td>\n",
       "      <td>1958</td>\n",
       "      <td>Public</td>\n",
       "      <td>Distance/In-Person</td>\n",
       "      <td>1974343</td>\n",
       "      <td>https://en.wikipedia.org/wiki/Anadolu_University</td>\n",
       "      <td>Eskişehir</td>\n",
       "      <td>Turkey</td>\n",
       "      <td>2025</td>\n",
       "    </tr>\n",
       "    <tr>\n",
       "      <th>3</th>\n",
       "      <td>4</td>\n",
       "      <td>California Community Colleges</td>\n",
       "      <td>California, United States</td>\n",
       "      <td>North America</td>\n",
       "      <td>1967</td>\n",
       "      <td>Public</td>\n",
       "      <td>In-Person</td>\n",
       "      <td>1800000</td>\n",
       "      <td>https://en.wikipedia.org/wiki/California_Commu...</td>\n",
       "      <td>California</td>\n",
       "      <td>United States</td>\n",
       "      <td>2025</td>\n",
       "    </tr>\n",
       "    <tr>\n",
       "      <th>4</th>\n",
       "      <td>5</td>\n",
       "      <td>Islamic Azad University</td>\n",
       "      <td>Iran</td>\n",
       "      <td>Asia</td>\n",
       "      <td>1982</td>\n",
       "      <td>Private</td>\n",
       "      <td>In-Person</td>\n",
       "      <td>1778000</td>\n",
       "      <td>https://en.wikipedia.org/wiki/Islamic_Azad_Uni...</td>\n",
       "      <td>NaN</td>\n",
       "      <td>Iran</td>\n",
       "      <td>2025</td>\n",
       "    </tr>\n",
       "  </tbody>\n",
       "</table>\n",
       "</div>"
      ],
      "text/plain": [
       "   Rank                             Institution                   Location  \\\n",
       "0     1  Indira Gandhi National Open University           New Delhi, India   \n",
       "1     2         National University, Bangladesh        Gazipur, Bangladesh   \n",
       "2     3                      Anadolu University          Eskişehir, Turkey   \n",
       "3     4           California Community Colleges  California, United States   \n",
       "4     5                 Islamic Azad University                       Iran   \n",
       "\n",
       "       Continent  Founded Affiliation     Delivery_Method  Enrollment  \\\n",
       "0           Asia     1985      Public  Distance/In-Person     7140000   \n",
       "1           Asia     1992      Public           In-Person     3425832   \n",
       "2           Asia     1958      Public  Distance/In-Person     1974343   \n",
       "3  North America     1967      Public           In-Person     1800000   \n",
       "4           Asia     1982     Private           In-Person     1778000   \n",
       "\n",
       "                                                Link location_city  \\\n",
       "0  https://en.wikipedia.org/wiki/Indira_Gandhi_Na...     New Delhi   \n",
       "1  https://en.wikipedia.org/wiki/National_Univers...       Gazipur   \n",
       "2   https://en.wikipedia.org/wiki/Anadolu_University     Eskişehir   \n",
       "3  https://en.wikipedia.org/wiki/California_Commu...    California   \n",
       "4  https://en.wikipedia.org/wiki/Islamic_Azad_Uni...           NaN   \n",
       "\n",
       "  location_country  updated_year  \n",
       "0            India          2025  \n",
       "1       Bangladesh          2025  \n",
       "2           Turkey          2025  \n",
       "3    United States          2025  \n",
       "4             Iran          2025  "
      ]
     },
     "execution_count": 94,
     "metadata": {},
     "output_type": "execute_result"
    }
   ],
   "source": [
    "df = pd.read_csv(\"universities_cleaned.csv\", index_col=0)\n",
    "df.head(5)"
   ]
  },
  {
   "cell_type": "markdown",
   "id": "756fcf4b",
   "metadata": {},
   "source": [
    "### Connect to Postgres"
   ]
  },
  {
   "cell_type": "code",
   "execution_count": 95,
   "id": "b979f898",
   "metadata": {},
   "outputs": [],
   "source": [
    "conn = psycopg2.connect(\n",
    "    host='127.0.0.1',\n",
    "    port=5433,\n",
    "    password='P@ssw0rd.1',\n",
    "    user='admin',\n",
    "    database='amdari_db'\n",
    ")"
   ]
  },
  {
   "cell_type": "code",
   "execution_count": 102,
   "id": "6d2d46ef",
   "metadata": {},
   "outputs": [
    {
     "data": {
      "text/plain": [
       "'CREATE TABLE universities(\\n    id SERIAL PRIMARY KEY,\\n    university_rank INT NOT NULL,\\n    university_name VARCHAR(255) NOT NULL,\\n    delivery_method VARCHAR(255) NOT NULL,\\n    enrollment BIGINT NOT NULL,\\n    founded INT NOT NULL,\\n    affiliation VARCHAR(50) NOT NULL,\\n    location_city VARCHAR(50) NOT NULL,\\n    location_country VARCHAR(50) NOT NULL,\\n    continent VARCHAR(50) NOT NULL,\\n    uni_location VARCHAR(255) NOT NULL,\\n    uni_link VARCHAR(300) NOT NULL,\\n    updated_year INT NOT NULL,\\n\\n\\n    UNIQUE (location_country, university_name, updated_year)\\n);\\n\\nCREATE TABLE dimUniversities(\\n    university_id SERIAL PRIMARY KEY,\\n    university_name VARCHAR(255) NOT NULL,\\n    delivery_method VARCHAR(255) NOT NULL,\\n    founded INT NOT NULL,\\n    affiliation VARCHAR(50) NOT NULL,\\n    university_link VARCHAR(300) NOT NULL,\\n\\n    UNIQUE (university_name)\\n);\\n\\nCREATE TABLE dimLocation(\\n    location_id SERIAL PRIMARY KEY,\\n    location_city VARCHAR(50) NOT NULL,\\n    location_country VARCHAR(50) NOT NULL,\\n    continent VARCHAR(50) NOT NULL,\\n    \\n    UNIQUE (location_city,location_country,continent)\\n);\\n\\nCREATE TABLE factRankings(\\n      id SERIAL PRIMARY KEY,\\n      university_rank INT NOT NULL,\\n      enrollment BIGINT NOT NULL,\\n      university_id INT NOT NULL,\\n      location_id INT NOT NULL,\\n      updated_year INT NOT NULL,\\n    \\n\\n    FOREIGN KEY (university_id) REFERENCES dimUniversities(university_id),\\n    FOREIGN KEY (location_id) REFERENCES dimLocation(location_id)\\n);\\n\\n'"
      ]
     },
     "execution_count": 102,
     "metadata": {},
     "output_type": "execute_result"
    }
   ],
   "source": [
    "create_qry_file = open(\"sql_scripts/postgres_create_table.sql\")\n",
    "create_gry = create_qry_file.read()\n",
    "create_gry"
   ]
  },
  {
   "cell_type": "code",
   "execution_count": null,
   "id": "397846b6",
   "metadata": {},
   "outputs": [],
   "source": [
    "try:\n",
    "    cursor = conn.cursor()\n",
    "    cursor.execute(create_gry)\n",
    "    conn.commit()\n",
    "    cursor.close()\n",
    "    print(\"Tables created sucessufully !!!\")\n",
    "except Exception as e:\n",
    "    conn.rollback()  # Roll back on error\n",
    "    cursor.close()\n",
    "    print(\"Error executing query:\", e)\n",
    "\n"
   ]
  },
  {
   "cell_type": "code",
   "execution_count": 104,
   "id": "3d13e28e",
   "metadata": {},
   "outputs": [],
   "source": [
    "engine = create_engine(\"postgresql+psycopg2://\", creator=lambda:conn)"
   ]
  },
  {
   "cell_type": "code",
   "execution_count": 105,
   "id": "46357eb9",
   "metadata": {},
   "outputs": [
    {
     "data": {
      "text/html": [
       "<div>\n",
       "<style scoped>\n",
       "    .dataframe tbody tr th:only-of-type {\n",
       "        vertical-align: middle;\n",
       "    }\n",
       "\n",
       "    .dataframe tbody tr th {\n",
       "        vertical-align: top;\n",
       "    }\n",
       "\n",
       "    .dataframe thead th {\n",
       "        text-align: right;\n",
       "    }\n",
       "</style>\n",
       "<table border=\"1\" class=\"dataframe\">\n",
       "  <thead>\n",
       "    <tr style=\"text-align: right;\">\n",
       "      <th></th>\n",
       "      <th>id</th>\n",
       "      <th>university_rank</th>\n",
       "      <th>university_name</th>\n",
       "      <th>delivery_method</th>\n",
       "      <th>enrollment</th>\n",
       "      <th>founded</th>\n",
       "      <th>affiliation</th>\n",
       "      <th>location_city</th>\n",
       "      <th>location_country</th>\n",
       "      <th>continent</th>\n",
       "      <th>uni_location</th>\n",
       "      <th>uni_link</th>\n",
       "      <th>updated_year</th>\n",
       "    </tr>\n",
       "  </thead>\n",
       "  <tbody>\n",
       "  </tbody>\n",
       "</table>\n",
       "</div>"
      ],
      "text/plain": [
       "Empty DataFrame\n",
       "Columns: [id, university_rank, university_name, delivery_method, enrollment, founded, affiliation, location_city, location_country, continent, uni_location, uni_link, updated_year]\n",
       "Index: []"
      ]
     },
     "execution_count": 105,
     "metadata": {},
     "output_type": "execute_result"
    }
   ],
   "source": [
    "pd.read_sql(\"SELECT * from universities\", con=engine)"
   ]
  },
  {
   "cell_type": "code",
   "execution_count": 106,
   "id": "c6e0d6d1",
   "metadata": {},
   "outputs": [],
   "source": [
    "# Convert the data to tuples\n",
    "data = df.itertuples(index=None, name=None)\n",
    "# tuple(data)"
   ]
  },
  {
   "cell_type": "markdown",
   "id": "b9158ec5",
   "metadata": {},
   "source": [
    "### Load the data into the database"
   ]
  },
  {
   "cell_type": "code",
   "execution_count": 107,
   "id": "a1fd2404",
   "metadata": {},
   "outputs": [
    {
     "data": {
      "text/plain": [
       "'INSERT INTO universities (\\n  university_rank, university_name, uni_location, continent, founded,\\n  affiliation, delivery_method, enrollment, uni_link,\\n  location_city, location_country, updated_year\\n)\\nVALUES (%s, %s, %s, %s, %s, %s, %s, %s, %s, %s, %s, %s)\\nON CONFLICT (university_name, location_country, updated_year)\\nDO UPDATE\\nSET \\n  university_rank = EXCLUDED.university_rank,\\n  uni_location = EXCLUDED.uni_location,\\n  continent = EXCLUDED.continent,\\n  founded = EXCLUDED.founded,\\n  affiliation = EXCLUDED.affiliation,\\n  delivery_method = EXCLUDED.delivery_method,\\n  enrollment = EXCLUDED.enrollment,\\n  uni_link = EXCLUDED.uni_link,\\n  location_city = EXCLUDED.location_city;\\n\\n'"
      ]
     },
     "execution_count": 107,
     "metadata": {},
     "output_type": "execute_result"
    }
   ],
   "source": [
    "merge_qry_file = open(\"sql_scripts/postgres_upsert.sql\")\n",
    "merge_qry = merge_qry_file.read()\n",
    "merge_qry\n"
   ]
  },
  {
   "cell_type": "code",
   "execution_count": null,
   "id": "9bc66157",
   "metadata": {},
   "outputs": [],
   "source": [
    "try:\n",
    "    cursor = conn.cursor()\n",
    "    cursor.executemany(merge_qry, data)\n",
    "    conn.commit()\n",
    "    cursor.close()\n",
    "    print(\"Data loaded sucessufully !!!\")\n",
    "except Exception as e:\n",
    "    conn.rollback()\n",
    "    cursor.close()\n",
    "    print(\"Error executing query:\", e)"
   ]
  },
  {
   "cell_type": "code",
   "execution_count": 109,
   "id": "5ec0e295",
   "metadata": {},
   "outputs": [
    {
     "data": {
      "text/html": [
       "<div>\n",
       "<style scoped>\n",
       "    .dataframe tbody tr th:only-of-type {\n",
       "        vertical-align: middle;\n",
       "    }\n",
       "\n",
       "    .dataframe tbody tr th {\n",
       "        vertical-align: top;\n",
       "    }\n",
       "\n",
       "    .dataframe thead th {\n",
       "        text-align: right;\n",
       "    }\n",
       "</style>\n",
       "<table border=\"1\" class=\"dataframe\">\n",
       "  <thead>\n",
       "    <tr style=\"text-align: right;\">\n",
       "      <th></th>\n",
       "      <th>id</th>\n",
       "      <th>university_rank</th>\n",
       "      <th>university_name</th>\n",
       "      <th>delivery_method</th>\n",
       "      <th>enrollment</th>\n",
       "      <th>founded</th>\n",
       "      <th>affiliation</th>\n",
       "      <th>location_city</th>\n",
       "      <th>location_country</th>\n",
       "      <th>continent</th>\n",
       "      <th>uni_location</th>\n",
       "      <th>uni_link</th>\n",
       "      <th>updated_year</th>\n",
       "    </tr>\n",
       "  </thead>\n",
       "  <tbody>\n",
       "    <tr>\n",
       "      <th>0</th>\n",
       "      <td>1</td>\n",
       "      <td>1</td>\n",
       "      <td>Indira Gandhi National Open University</td>\n",
       "      <td>Distance/In-Person</td>\n",
       "      <td>7140000</td>\n",
       "      <td>1985</td>\n",
       "      <td>Public</td>\n",
       "      <td>New Delhi</td>\n",
       "      <td>India</td>\n",
       "      <td>Asia</td>\n",
       "      <td>New Delhi, India</td>\n",
       "      <td>https://en.wikipedia.org/wiki/Indira_Gandhi_Na...</td>\n",
       "      <td>2025</td>\n",
       "    </tr>\n",
       "    <tr>\n",
       "      <th>1</th>\n",
       "      <td>2</td>\n",
       "      <td>2</td>\n",
       "      <td>National University, Bangladesh</td>\n",
       "      <td>In-Person</td>\n",
       "      <td>3425832</td>\n",
       "      <td>1992</td>\n",
       "      <td>Public</td>\n",
       "      <td>Gazipur</td>\n",
       "      <td>Bangladesh</td>\n",
       "      <td>Asia</td>\n",
       "      <td>Gazipur, Bangladesh</td>\n",
       "      <td>https://en.wikipedia.org/wiki/National_Univers...</td>\n",
       "      <td>2025</td>\n",
       "    </tr>\n",
       "    <tr>\n",
       "      <th>2</th>\n",
       "      <td>3</td>\n",
       "      <td>3</td>\n",
       "      <td>Anadolu University</td>\n",
       "      <td>Distance/In-Person</td>\n",
       "      <td>1974343</td>\n",
       "      <td>1958</td>\n",
       "      <td>Public</td>\n",
       "      <td>Eskişehir</td>\n",
       "      <td>Turkey</td>\n",
       "      <td>Asia</td>\n",
       "      <td>Eskişehir, Turkey</td>\n",
       "      <td>https://en.wikipedia.org/wiki/Anadolu_University</td>\n",
       "      <td>2025</td>\n",
       "    </tr>\n",
       "    <tr>\n",
       "      <th>3</th>\n",
       "      <td>4</td>\n",
       "      <td>4</td>\n",
       "      <td>California Community Colleges</td>\n",
       "      <td>In-Person</td>\n",
       "      <td>1800000</td>\n",
       "      <td>1967</td>\n",
       "      <td>Public</td>\n",
       "      <td>California</td>\n",
       "      <td>United States</td>\n",
       "      <td>North America</td>\n",
       "      <td>California, United States</td>\n",
       "      <td>https://en.wikipedia.org/wiki/California_Commu...</td>\n",
       "      <td>2025</td>\n",
       "    </tr>\n",
       "    <tr>\n",
       "      <th>4</th>\n",
       "      <td>5</td>\n",
       "      <td>5</td>\n",
       "      <td>Islamic Azad University</td>\n",
       "      <td>In-Person</td>\n",
       "      <td>1778000</td>\n",
       "      <td>1982</td>\n",
       "      <td>Private</td>\n",
       "      <td>NaN</td>\n",
       "      <td>Iran</td>\n",
       "      <td>Asia</td>\n",
       "      <td>Iran</td>\n",
       "      <td>https://en.wikipedia.org/wiki/Islamic_Azad_Uni...</td>\n",
       "      <td>2025</td>\n",
       "    </tr>\n",
       "    <tr>\n",
       "      <th>5</th>\n",
       "      <td>6</td>\n",
       "      <td>6</td>\n",
       "      <td>Allama Iqbal Open University</td>\n",
       "      <td>Distance/In-Person</td>\n",
       "      <td>1027000</td>\n",
       "      <td>1974</td>\n",
       "      <td>Public</td>\n",
       "      <td>Islamabad</td>\n",
       "      <td>Pakistan</td>\n",
       "      <td>Asia</td>\n",
       "      <td>Islamabad, Pakistan</td>\n",
       "      <td>https://en.wikipedia.org/wiki/Allama_Iqbal_Ope...</td>\n",
       "      <td>2025</td>\n",
       "    </tr>\n",
       "    <tr>\n",
       "      <th>6</th>\n",
       "      <td>7</td>\n",
       "      <td>7</td>\n",
       "      <td>Laureate Education, Inc.</td>\n",
       "      <td>Distance/In-Person</td>\n",
       "      <td>875000</td>\n",
       "      <td>1999</td>\n",
       "      <td>Private</td>\n",
       "      <td>NaN</td>\n",
       "      <td>International</td>\n",
       "      <td>Global</td>\n",
       "      <td>International</td>\n",
       "      <td>https://en.wikipedia.org/wiki/Laureate_Educati...</td>\n",
       "      <td>2025</td>\n",
       "    </tr>\n",
       "    <tr>\n",
       "      <th>7</th>\n",
       "      <td>8</td>\n",
       "      <td>8</td>\n",
       "      <td>Bangladesh Open University</td>\n",
       "      <td>Distance</td>\n",
       "      <td>650000</td>\n",
       "      <td>1992</td>\n",
       "      <td>Public</td>\n",
       "      <td>Gazipur</td>\n",
       "      <td>Bangladesh</td>\n",
       "      <td>Asia</td>\n",
       "      <td>Gazipur, Bangladesh</td>\n",
       "      <td>https://en.wikipedia.org/wiki/Bangladesh_Open_...</td>\n",
       "      <td>2025</td>\n",
       "    </tr>\n",
       "    <tr>\n",
       "      <th>8</th>\n",
       "      <td>9</td>\n",
       "      <td>9</td>\n",
       "      <td>Universitas Terbuka</td>\n",
       "      <td>Distance</td>\n",
       "      <td>646467</td>\n",
       "      <td>1984</td>\n",
       "      <td>Public</td>\n",
       "      <td>Jakarta</td>\n",
       "      <td>Indonesia</td>\n",
       "      <td>Asia</td>\n",
       "      <td>Jakarta, Indonesia</td>\n",
       "      <td>https://en.wikipedia.org/wiki/Universitas_Terbuka</td>\n",
       "      <td>2025</td>\n",
       "    </tr>\n",
       "    <tr>\n",
       "      <th>9</th>\n",
       "      <td>10</td>\n",
       "      <td>10</td>\n",
       "      <td>National Technological Institute of Mexico</td>\n",
       "      <td>In-Person</td>\n",
       "      <td>6200002019</td>\n",
       "      <td>1948</td>\n",
       "      <td>Public</td>\n",
       "      <td>NaN</td>\n",
       "      <td>Mexico</td>\n",
       "      <td>North America</td>\n",
       "      <td>Mexico</td>\n",
       "      <td>https://en.wikipedia.org/wiki/National_Technol...</td>\n",
       "      <td>2025</td>\n",
       "    </tr>\n",
       "  </tbody>\n",
       "</table>\n",
       "</div>"
      ],
      "text/plain": [
       "   id  university_rank                             university_name  \\\n",
       "0   1                1      Indira Gandhi National Open University   \n",
       "1   2                2             National University, Bangladesh   \n",
       "2   3                3                          Anadolu University   \n",
       "3   4                4               California Community Colleges   \n",
       "4   5                5                     Islamic Azad University   \n",
       "5   6                6                Allama Iqbal Open University   \n",
       "6   7                7                    Laureate Education, Inc.   \n",
       "7   8                8                  Bangladesh Open University   \n",
       "8   9                9                         Universitas Terbuka   \n",
       "9  10               10  National Technological Institute of Mexico   \n",
       "\n",
       "      delivery_method  enrollment  founded affiliation location_city  \\\n",
       "0  Distance/In-Person     7140000     1985      Public     New Delhi   \n",
       "1           In-Person     3425832     1992      Public       Gazipur   \n",
       "2  Distance/In-Person     1974343     1958      Public     Eskişehir   \n",
       "3           In-Person     1800000     1967      Public    California   \n",
       "4           In-Person     1778000     1982     Private           NaN   \n",
       "5  Distance/In-Person     1027000     1974      Public     Islamabad   \n",
       "6  Distance/In-Person      875000     1999     Private           NaN   \n",
       "7            Distance      650000     1992      Public       Gazipur   \n",
       "8            Distance      646467     1984      Public       Jakarta   \n",
       "9           In-Person  6200002019     1948      Public           NaN   \n",
       "\n",
       "  location_country      continent               uni_location  \\\n",
       "0            India           Asia           New Delhi, India   \n",
       "1       Bangladesh           Asia        Gazipur, Bangladesh   \n",
       "2           Turkey           Asia          Eskişehir, Turkey   \n",
       "3    United States  North America  California, United States   \n",
       "4             Iran           Asia                       Iran   \n",
       "5         Pakistan           Asia        Islamabad, Pakistan   \n",
       "6    International         Global              International   \n",
       "7       Bangladesh           Asia        Gazipur, Bangladesh   \n",
       "8        Indonesia           Asia         Jakarta, Indonesia   \n",
       "9           Mexico  North America                     Mexico   \n",
       "\n",
       "                                            uni_link  updated_year  \n",
       "0  https://en.wikipedia.org/wiki/Indira_Gandhi_Na...          2025  \n",
       "1  https://en.wikipedia.org/wiki/National_Univers...          2025  \n",
       "2   https://en.wikipedia.org/wiki/Anadolu_University          2025  \n",
       "3  https://en.wikipedia.org/wiki/California_Commu...          2025  \n",
       "4  https://en.wikipedia.org/wiki/Islamic_Azad_Uni...          2025  \n",
       "5  https://en.wikipedia.org/wiki/Allama_Iqbal_Ope...          2025  \n",
       "6  https://en.wikipedia.org/wiki/Laureate_Educati...          2025  \n",
       "7  https://en.wikipedia.org/wiki/Bangladesh_Open_...          2025  \n",
       "8  https://en.wikipedia.org/wiki/Universitas_Terbuka          2025  \n",
       "9  https://en.wikipedia.org/wiki/National_Technol...          2025  "
      ]
     },
     "execution_count": 109,
     "metadata": {},
     "output_type": "execute_result"
    }
   ],
   "source": [
    "pd.read_sql(\"SELECT * from universities LIMIT 10\", con=engine)"
   ]
  },
  {
   "cell_type": "markdown",
   "id": "7e74f1b6",
   "metadata": {},
   "source": [
    "### Loading Dim University"
   ]
  },
  {
   "cell_type": "code",
   "execution_count": 114,
   "id": "0ef5ba3f",
   "metadata": {},
   "outputs": [
    {
     "data": {
      "text/html": [
       "<div>\n",
       "<style scoped>\n",
       "    .dataframe tbody tr th:only-of-type {\n",
       "        vertical-align: middle;\n",
       "    }\n",
       "\n",
       "    .dataframe tbody tr th {\n",
       "        vertical-align: top;\n",
       "    }\n",
       "\n",
       "    .dataframe thead th {\n",
       "        text-align: right;\n",
       "    }\n",
       "</style>\n",
       "<table border=\"1\" class=\"dataframe\">\n",
       "  <thead>\n",
       "    <tr style=\"text-align: right;\">\n",
       "      <th></th>\n",
       "      <th>university_name</th>\n",
       "      <th>delivery_method</th>\n",
       "      <th>founded</th>\n",
       "      <th>affiliation</th>\n",
       "      <th>uni_link</th>\n",
       "    </tr>\n",
       "  </thead>\n",
       "  <tbody>\n",
       "    <tr>\n",
       "      <th>0</th>\n",
       "      <td>Sapienza University of Rome</td>\n",
       "      <td>In-Person</td>\n",
       "      <td>1303</td>\n",
       "      <td>Public</td>\n",
       "      <td>https://en.wikipedia.org/wiki/Sapienza_Univers...</td>\n",
       "    </tr>\n",
       "    <tr>\n",
       "      <th>1</th>\n",
       "      <td>National University, Bangladesh</td>\n",
       "      <td>In-Person</td>\n",
       "      <td>1992</td>\n",
       "      <td>Public</td>\n",
       "      <td>https://en.wikipedia.org/wiki/National_Univers...</td>\n",
       "    </tr>\n",
       "    <tr>\n",
       "      <th>2</th>\n",
       "      <td>Norte do Paraná University</td>\n",
       "      <td>Distance/In-Person</td>\n",
       "      <td>1972</td>\n",
       "      <td>Private</td>\n",
       "      <td>https://en.wikipedia.org/wiki/Universidade_Nor...</td>\n",
       "    </tr>\n",
       "    <tr>\n",
       "      <th>3</th>\n",
       "      <td>University of London</td>\n",
       "      <td>In-Person</td>\n",
       "      <td>1836</td>\n",
       "      <td>Public</td>\n",
       "      <td>https://en.wikipedia.org/wiki/University_of_Lo...</td>\n",
       "    </tr>\n",
       "    <tr>\n",
       "      <th>4</th>\n",
       "      <td>Rajiv Gandhi Technical University</td>\n",
       "      <td>In-Person</td>\n",
       "      <td>1998</td>\n",
       "      <td>Public</td>\n",
       "      <td>https://en.wikipedia.org/wiki/Rajiv_Gandhi_Tec...</td>\n",
       "    </tr>\n",
       "  </tbody>\n",
       "</table>\n",
       "</div>"
      ],
      "text/plain": [
       "                     university_name     delivery_method  founded affiliation  \\\n",
       "0        Sapienza University of Rome           In-Person     1303      Public   \n",
       "1    National University, Bangladesh           In-Person     1992      Public   \n",
       "2         Norte do Paraná University  Distance/In-Person     1972     Private   \n",
       "3               University of London           In-Person     1836      Public   \n",
       "4  Rajiv Gandhi Technical University           In-Person     1998      Public   \n",
       "\n",
       "                                            uni_link  \n",
       "0  https://en.wikipedia.org/wiki/Sapienza_Univers...  \n",
       "1  https://en.wikipedia.org/wiki/National_Univers...  \n",
       "2  https://en.wikipedia.org/wiki/Universidade_Nor...  \n",
       "3  https://en.wikipedia.org/wiki/University_of_Lo...  \n",
       "4  https://en.wikipedia.org/wiki/Rajiv_Gandhi_Tec...  "
      ]
     },
     "execution_count": 114,
     "metadata": {},
     "output_type": "execute_result"
    }
   ],
   "source": [
    "df_universities = pd.read_sql(\"SELECT DISTINCT(u.university_name) as university_name,u.delivery_method,u.founded,u.affiliation,u.uni_link from universities u\", con=engine)\n",
    "\n",
    "df_universities.head(5)"
   ]
  },
  {
   "cell_type": "code",
   "execution_count": 124,
   "id": "39a424ea",
   "metadata": {},
   "outputs": [
    {
     "data": {
      "text/plain": [
       "university_name    90\n",
       "delivery_method    90\n",
       "founded            90\n",
       "affiliation        90\n",
       "uni_link           90\n",
       "dtype: int64"
      ]
     },
     "execution_count": 124,
     "metadata": {},
     "output_type": "execute_result"
    }
   ],
   "source": [
    "df_universities.count()"
   ]
  },
  {
   "cell_type": "code",
   "execution_count": 133,
   "id": "db9b9cfd",
   "metadata": {},
   "outputs": [],
   "source": [
    "#converts the datafram to a tuple\n",
    "uni_data = df_universities.itertuples(index=None, name=None)\n",
    "# tuple(uni_data)"
   ]
  },
  {
   "cell_type": "code",
   "execution_count": null,
   "id": "ab8bfecd",
   "metadata": {},
   "outputs": [],
   "source": [
    "merge_dimUni_file = open(\"sql_scripts/upsert_dim_universities.sql\")\n",
    "merge_dimUni = merge_dimUni_file.read()\n",
    "merge_dimUni\n",
    "\n",
    "try:\n",
    "    cursor = conn.cursor()\n",
    "    cursor.executemany(merge_dimUni, uni_data)\n",
    "    conn.commit()\n",
    "    cursor.close()\n",
    "    print(\"Data loaded sucessufully !!!\")\n",
    "except Exception as e:\n",
    "    conn.rollback()\n",
    "    cursor.close()\n",
    "    print(\"Error executing query:\", e)"
   ]
  },
  {
   "cell_type": "markdown",
   "id": "e39177d4",
   "metadata": {},
   "source": [
    "### Loading DimLoaction"
   ]
  },
  {
   "cell_type": "code",
   "execution_count": 135,
   "id": "fe36a3f5",
   "metadata": {},
   "outputs": [
    {
     "data": {
      "text/html": [
       "<div>\n",
       "<style scoped>\n",
       "    .dataframe tbody tr th:only-of-type {\n",
       "        vertical-align: middle;\n",
       "    }\n",
       "\n",
       "    .dataframe tbody tr th {\n",
       "        vertical-align: top;\n",
       "    }\n",
       "\n",
       "    .dataframe thead th {\n",
       "        text-align: right;\n",
       "    }\n",
       "</style>\n",
       "<table border=\"1\" class=\"dataframe\">\n",
       "  <thead>\n",
       "    <tr style=\"text-align: right;\">\n",
       "      <th></th>\n",
       "      <th>location_city</th>\n",
       "      <th>location_country</th>\n",
       "      <th>continent</th>\n",
       "    </tr>\n",
       "  </thead>\n",
       "  <tbody>\n",
       "    <tr>\n",
       "      <th>0</th>\n",
       "      <td>Bhopal, Madhya Pradesh</td>\n",
       "      <td>India</td>\n",
       "      <td>Asia</td>\n",
       "    </tr>\n",
       "    <tr>\n",
       "      <th>1</th>\n",
       "      <td>Ohio</td>\n",
       "      <td>United States</td>\n",
       "      <td>North America</td>\n",
       "    </tr>\n",
       "    <tr>\n",
       "      <th>2</th>\n",
       "      <td>Córdoba</td>\n",
       "      <td>Argentina</td>\n",
       "      <td>South America</td>\n",
       "    </tr>\n",
       "    <tr>\n",
       "      <th>3</th>\n",
       "      <td>NaN</td>\n",
       "      <td>Canada</td>\n",
       "      <td>North America</td>\n",
       "    </tr>\n",
       "    <tr>\n",
       "      <th>4</th>\n",
       "      <td>Madrid</td>\n",
       "      <td>Spain</td>\n",
       "      <td>Europe</td>\n",
       "    </tr>\n",
       "  </tbody>\n",
       "</table>\n",
       "</div>"
      ],
      "text/plain": [
       "            location_city location_country      continent\n",
       "0  Bhopal, Madhya Pradesh            India           Asia\n",
       "1                    Ohio    United States  North America\n",
       "2                 Córdoba        Argentina  South America\n",
       "3                     NaN           Canada  North America\n",
       "4                  Madrid            Spain         Europe"
      ]
     },
     "execution_count": 135,
     "metadata": {},
     "output_type": "execute_result"
    }
   ],
   "source": [
    "df_locations = pd.read_sql(\"select distinct u.location_city, u.location_country, u.continent from universities u \", con=engine)\n",
    "\n",
    "df_locations.head(5)"
   ]
  },
  {
   "cell_type": "code",
   "execution_count": 139,
   "id": "a169e85b",
   "metadata": {},
   "outputs": [
    {
     "data": {
      "text/plain": [
       "location_city       74\n",
       "location_country    74\n",
       "continent           74\n",
       "dtype: int64"
      ]
     },
     "execution_count": 139,
     "metadata": {},
     "output_type": "execute_result"
    }
   ],
   "source": [
    "df_locations.count()"
   ]
  },
  {
   "cell_type": "code",
   "execution_count": 149,
   "id": "148c38f1",
   "metadata": {},
   "outputs": [],
   "source": [
    "#converts the datafram to a tuple\n",
    "location_data = df_locations.itertuples(index=None, name=None)\n",
    "# tuple(location_data)"
   ]
  },
  {
   "cell_type": "code",
   "execution_count": 150,
   "id": "c8742b57",
   "metadata": {},
   "outputs": [
    {
     "name": "stdout",
     "output_type": "stream",
     "text": [
      "Data loaded sucessufully !!!\n"
     ]
    }
   ],
   "source": [
    "merge_dimloc_file = open(\"sql_scripts/upsert_dim_locations.sql\")\n",
    "merge_dimloc = merge_dimloc_file.read()\n",
    "merge_dimloc\n",
    "\n",
    "try:\n",
    "    cursor = conn.cursor()\n",
    "    cursor.executemany(merge_dimloc, location_data)\n",
    "    conn.commit()\n",
    "    cursor.close()\n",
    "    print(\"Data loaded sucessufully !!!\")\n",
    "except Exception as e:\n",
    "    conn.rollback()\n",
    "    cursor.close()\n",
    "    print(\"Error executing query:\", e)"
   ]
  },
  {
   "cell_type": "markdown",
   "id": "02fc40f0",
   "metadata": {},
   "source": [
    "### Loading the Fact Table"
   ]
  },
  {
   "cell_type": "code",
   "execution_count": 151,
   "id": "1bc2ede0",
   "metadata": {},
   "outputs": [
    {
     "data": {
      "text/html": [
       "<div>\n",
       "<style scoped>\n",
       "    .dataframe tbody tr th:only-of-type {\n",
       "        vertical-align: middle;\n",
       "    }\n",
       "\n",
       "    .dataframe tbody tr th {\n",
       "        vertical-align: top;\n",
       "    }\n",
       "\n",
       "    .dataframe thead th {\n",
       "        text-align: right;\n",
       "    }\n",
       "</style>\n",
       "<table border=\"1\" class=\"dataframe\">\n",
       "  <thead>\n",
       "    <tr style=\"text-align: right;\">\n",
       "      <th></th>\n",
       "      <th>university_rank</th>\n",
       "      <th>enrollment</th>\n",
       "      <th>university_id</th>\n",
       "      <th>location_id</th>\n",
       "      <th>updated_year</th>\n",
       "    </tr>\n",
       "  </thead>\n",
       "  <tbody>\n",
       "    <tr>\n",
       "      <th>0</th>\n",
       "      <td>1</td>\n",
       "      <td>7140000</td>\n",
       "      <td>15</td>\n",
       "      <td>24</td>\n",
       "      <td>2025</td>\n",
       "    </tr>\n",
       "    <tr>\n",
       "      <th>1</th>\n",
       "      <td>2</td>\n",
       "      <td>3425832</td>\n",
       "      <td>2</td>\n",
       "      <td>26</td>\n",
       "      <td>2025</td>\n",
       "    </tr>\n",
       "    <tr>\n",
       "      <th>2</th>\n",
       "      <td>3</td>\n",
       "      <td>1974343</td>\n",
       "      <td>51</td>\n",
       "      <td>14</td>\n",
       "      <td>2025</td>\n",
       "    </tr>\n",
       "    <tr>\n",
       "      <th>3</th>\n",
       "      <td>4</td>\n",
       "      <td>1800000</td>\n",
       "      <td>8</td>\n",
       "      <td>16</td>\n",
       "      <td>2025</td>\n",
       "    </tr>\n",
       "    <tr>\n",
       "      <th>4</th>\n",
       "      <td>5</td>\n",
       "      <td>1778000</td>\n",
       "      <td>36</td>\n",
       "      <td>43</td>\n",
       "      <td>2025</td>\n",
       "    </tr>\n",
       "  </tbody>\n",
       "</table>\n",
       "</div>"
      ],
      "text/plain": [
       "   university_rank  enrollment  university_id  location_id  updated_year\n",
       "0                1     7140000             15           24          2025\n",
       "1                2     3425832              2           26          2025\n",
       "2                3     1974343             51           14          2025\n",
       "3                4     1800000              8           16          2025\n",
       "4                5     1778000             36           43          2025"
      ]
     },
     "execution_count": 151,
     "metadata": {},
     "output_type": "execute_result"
    }
   ],
   "source": [
    "qry = \"\"\"\n",
    "    select r.university_rank, r.enrollment, du.university_id, l.location_id, r.updated_year\n",
    "    from universities r\n",
    "\t    left join dimuniversities du on r. university_name = du.university_name \n",
    "\t    left join dimlocation l on (r.location_city , r.location_country, r.continent) = (l.location_city,l.location_country, l.continent)\n",
    "\"\"\"\n",
    "\n",
    "df_fact_ranking = pd.read_sql(qry, con=engine)\n",
    "\n",
    "df_fact_ranking.head(5)"
   ]
  },
  {
   "cell_type": "code",
   "execution_count": 152,
   "id": "9d091f47",
   "metadata": {},
   "outputs": [
    {
     "data": {
      "text/plain": [
       "university_rank    90\n",
       "enrollment         90\n",
       "university_id      90\n",
       "location_id        90\n",
       "updated_year       90\n",
       "dtype: int64"
      ]
     },
     "execution_count": 152,
     "metadata": {},
     "output_type": "execute_result"
    }
   ],
   "source": [
    "df_fact_ranking.count()"
   ]
  },
  {
   "cell_type": "code",
   "execution_count": 154,
   "id": "48decc7d",
   "metadata": {},
   "outputs": [],
   "source": [
    "fact_data = df_fact_ranking.itertuples(index=None, name=None)\n",
    "# tuple(fact_data)"
   ]
  },
  {
   "cell_type": "code",
   "execution_count": 155,
   "id": "0bf7144d",
   "metadata": {},
   "outputs": [
    {
     "name": "stdout",
     "output_type": "stream",
     "text": [
      "Data loaded sucessufully !!!\n"
     ]
    }
   ],
   "source": [
    "insert_qry = \"\"\" \n",
    "        INSERT INTO factrankings \n",
    "            (university_rank,enrollment,university_id,location_id,updated_year)\n",
    "        VALUES (%s, %s, %s, %s, %s)\n",
    "    \"\"\"\n",
    "\n",
    "try:\n",
    "    cursor = conn.cursor()\n",
    "    cursor.executemany(insert_qry, fact_data)\n",
    "    conn.commit()\n",
    "    cursor.close()\n",
    "    print(\"Data loaded sucessufully !!!\")\n",
    "except Exception as e:\n",
    "    conn.rollback()\n",
    "    cursor.close()\n",
    "    print(\"Error executing query:\", e)"
   ]
  }
 ],
 "metadata": {
  "kernelspec": {
   "display_name": "venv",
   "language": "python",
   "name": "python3"
  },
  "language_info": {
   "codemirror_mode": {
    "name": "ipython",
    "version": 3
   },
   "file_extension": ".py",
   "mimetype": "text/x-python",
   "name": "python",
   "nbconvert_exporter": "python",
   "pygments_lexer": "ipython3",
   "version": "3.12.7"
  }
 },
 "nbformat": 4,
 "nbformat_minor": 5
}
